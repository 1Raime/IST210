{
  "nbformat": 4,
  "nbformat_minor": 0,
  "metadata": {
    "colab": {
      "name": "Project 4.ipynb",
      "provenance": [],
      "collapsed_sections": []
    },
    "kernelspec": {
      "name": "python3",
      "display_name": "Python 3"
    }
  },
  "cells": [
    {
      "cell_type": "markdown",
      "metadata": {
        "id": "IhNFB0HCxu5m",
        "colab_type": "text"
      },
      "source": [
        "![alt text](https://media.discordapp.net/attachments/187310213680857089/647604075587698698/group1projectpart2.png)"
      ]
    },
    {
      "cell_type": "code",
      "metadata": {
        "id": "5TbwST8zyKgm",
        "colab_type": "code",
        "colab": {}
      },
      "source": [
        "import sqlite3\n",
        "connectionToDatabase = sqlite3.connect('Flixnet') \n",
        "cursor = connectionToDatabase.cursor()\n",
        "cursor.execute('''drop table IF EXISTS Movies''')\n",
        "connectionToDatabase.commit()\n",
        "\n",
        "cursor.execute('''create table Movies ( Movie_title text PRIMARY KEY, Movie_length int, Movie_genre text, Movie_rating text, Movie_director text)''')\n",
        "connectionToDatabase.commit()\n",
        "\n",
        "cursor.execute('''drop table IF EXISTS Actors''')\n",
        "connectionToDatabase.commit()\n",
        "\n",
        "cursor.execute('''create table Actors (Actor_name text PRIMARY KEY, Actor_movies text, Actor_shows text, Actor_related_actors text)''')\n",
        "connectionToDatabase.commit()\n",
        "\n",
        "cursor.execute('''drop table IF EXISTS Users''')\n",
        "connectionToDatabase.commit()\n",
        "\n",
        "cursor.execute('''create table Users (User_ID int PRIMARY KEY, Profile_name text, User_reviews text, User_age int, User_StreamTime int)''')\n",
        "connectionToDatabase.commit()\n",
        "\n",
        "cursor.execute('''drop table IF EXISTS TV''')\n",
        "connectionToDatabase.commit()\n",
        "\n",
        "cursor.execute('''create table TV (TV_title text PRIMARY KEY, TV_num_seasons int, Start_year int, TV_genre text, TV_rating text)''')\n",
        "connectionToDatabase.commit()\n",
        "\n",
        "cursor.execute('''drop table IF EXISTS DVD''')\n",
        "connectionToDatabase.commit()\n",
        "\n",
        "cursor.execute('''create table DVD (DVD_id int PRIMARY KEY, DVD_title text, DVD_Idlocation int, DVD_address int, DVD_receipt int)''')\n",
        "connectionToDatabase.commit()\n"
      ],
      "execution_count": 0,
      "outputs": []
    },
    {
      "cell_type": "code",
      "metadata": {
        "id": "bFQ4Xyh1lYSQ",
        "colab_type": "code",
        "colab": {}
      },
      "source": [
        "cursor.execute('''insert into Movies values ('Avengers_Endgame', 182, 'Superhero', 'PG-13', 'Anthony_Russo');''')\n",
        "connectionToDatabase.commit()\n",
        "cursor.execute('''insert into Movies values ('Joker' , 122, 'Thriller', 'R', 'Todd_Phillips');''')\n",
        "connectionToDatabase.commit()\n",
        "cursor.execute('''insert into Movies values ('Get_Out', 104, 'Horror', 'R', 'Jordan_Peele');''')\n",
        "connectionToDatabase.commit()\n",
        "cursor.execute('''insert into Movies values ('The_Dark_Knight', 152, 'Superhero', 'PG-13', 'Christopher_Nolan');''')\n",
        "connectionToDatabase.commit()\n",
        "cursor.execute('''insert into Movies values ('Pulp_Fiction', 178, 'Comedy', 'R', 'Quentin_Tarantino');''')\n",
        "connectionToDatabase.commit()"
      ],
      "execution_count": 0,
      "outputs": []
    },
    {
      "cell_type": "code",
      "metadata": {
        "id": "89Ph8iPkSt75",
        "colab_type": "code",
        "colab": {}
      },
      "source": [
        "cursor.execute('''insert into Actors values ('Steve_Carell', 'Minions', 'The_Office', 'John_Krasinski');''')\n",
        "connectionToDatabase.commit()\n",
        "cursor.execute('''insert into Actors values ('John_Krasinski','A_Quiet_Place','The_Office', 'Rainn_Wilson');''')\n",
        "connectionToDatabase.commit()\n",
        "cursor.execute('''insert into Actors values ('Danny_DeVito','Matilda','Its_Always_Sunny','Michael_Keaton');''')\n",
        "connectionToDatabase.commit()\n",
        "cursor.execute('''insert into Actors values ('Michael_Keaton','Batman','Working_Stiffs','Christian_Bale');''')\n",
        "connectionToDatabase.commit()\n",
        "cursor.execute('''insert into Actors values ('Bryan_Cranston','Why_Him','Breaking_Bad','Aaron_Paul');''')\n",
        "connectionToDatabase.commit()"
      ],
      "execution_count": 0,
      "outputs": []
    },
    {
      "cell_type": "code",
      "metadata": {
        "id": "1aTJfw_GTYIB",
        "colab_type": "code",
        "colab": {}
      },
      "source": [
        "cursor.execute('''insert into Users values (123,'this_is_not_fake',4,20,153);''')\n",
        "connectionToDatabase.commit()\n",
        "cursor.execute('''insert into Users values (124,'i_love_projects',5,18,90);''')\n",
        "connectionToDatabase.commit()\n",
        "cursor.execute('''insert into Users values (125,'thisisfun',5,35,264);''')\n",
        "connectionToDatabase.commit()\n",
        "cursor.execute('''insert into Users values (157,'hello_user',1,56,270);''')\n",
        "connectionToDatabase.commit()\n",
        "cursor.execute('''insert into Users values (160,'username1',5,21,300);''')\n",
        "connectionToDatabase.commit()"
      ],
      "execution_count": 0,
      "outputs": []
    },
    {
      "cell_type": "code",
      "metadata": {
        "id": "uC39SwagX7cL",
        "colab_type": "code",
        "colab": {}
      },
      "source": [
        "cursor.execute('''insert into TV values ('Game_of_Thrones' , 8, 2011, 'Fantasy', 'TV_MA');''')\n",
        "connectionToDatabase.commit()\n",
        "cursor.execute('''insert into TV values ('The_Office' , 9, 2005, 'Comedy', 'TV_14');''')\n",
        "connectionToDatabase.commit()\n",
        "cursor.execute('''insert into TV values ('Stranger_Things' , 3, 2016, 'Horror', 'TV_14');''')\n",
        "connectionToDatabase.commit()\n",
        "cursor.execute('''insert into TV values ('Greys_Anatomy' , 16, 2005, 'Romance', 'TV_14');''')\n",
        "connectionToDatabase.commit()\n",
        "cursor.execute('''insert into TV values ('American_Horror_Story' , 9, 2011, 'Horror', 'TV_MA');''')\n",
        "connectionToDatabase.commit()"
      ],
      "execution_count": 0,
      "outputs": []
    },
    {
      "cell_type": "code",
      "metadata": {
        "id": "1XDuGWeeICwY",
        "colab_type": "code",
        "colab": {}
      },
      "source": [
        "cursor.execute('''insert into DVD values (70123 , 'Midway', 0246, 0987, 00067);''')\n",
        "connectionToDatabase.commit()\n",
        "cursor.execute('''insert into DVD values (40135 , 'Frozen', 3406, 1117, 03456);''')\n",
        "connectionToDatabase.commit()\n",
        "cursor.execute('''insert into DVD values (98133 , 'Zombie_Land', 8504, 8497, 01283);''')\n",
        "connectionToDatabase.commit()\n",
        "cursor.execute('''insert into DVD values (93097 , 'Terminator', 2604, 0499, 03566);''')\n",
        "connectionToDatabase.commit()\n",
        "cursor.execute('''insert into DVD values (51073 , 'Addams_Family', 0089, 0001, 12890);''')\n",
        "connectionToDatabase.commit()"
      ],
      "execution_count": 0,
      "outputs": []
    },
    {
      "cell_type": "markdown",
      "metadata": {
        "id": "ocfGvL_8xigb",
        "colab_type": "text"
      },
      "source": [
        "What movies are rated R?\n",
        "(sql command)"
      ]
    },
    {
      "cell_type": "code",
      "metadata": {
        "id": "6fwz1NUNhK9o",
        "colab_type": "code",
        "outputId": "9d66a060-6c73-4a7e-e37d-b125ea318c02",
        "colab": {
          "base_uri": "https://localhost:8080/",
          "height": 71
        }
      },
      "source": [
        "cursor.execute('''select * from Movies WHERE \"Movie_rating\" = \"R\"''')\n",
        "for row in cursor.fetchall():\n",
        "  print (row)"
      ],
      "execution_count": 0,
      "outputs": [
        {
          "output_type": "stream",
          "text": [
            "('Joker', 122, 'Thriller', 'R', 'Todd_Phillips')\n",
            "('Get_Out', 104, 'Horror', 'R', 'Jordan_Peele')\n",
            "('Pulp_Fiction', 178, 'Comedy', 'R', 'Quentin_Tarantino')\n"
          ],
          "name": "stdout"
        }
      ]
    },
    {
      "cell_type": "markdown",
      "metadata": {
        "id": "mHW2sFv6L6Q2",
        "colab_type": "text"
      },
      "source": [
        "Being able to search for 'R' rated movies, or any rating really, is a very important feature of any video hosting/streaming service. Searching/Sorting by rating is one of the most common ways to search up new and/or old shows/movies, and our database being able to accurately determine the different ratings and search between them is vital to our platforms success. The results did match up with what we expected as these three movies were the only three rated 'R'."
      ]
    },
    {
      "cell_type": "markdown",
      "metadata": {
        "id": "91NrS5W7x2At",
        "colab_type": "text"
      },
      "source": [
        "What actors starred in The Office?\n",
        "(sql command)"
      ]
    },
    {
      "cell_type": "code",
      "metadata": {
        "id": "ES-073URkQGc",
        "colab_type": "code",
        "outputId": "ea21a036-c0f3-41eb-db17-0e3e28bfd5d5",
        "colab": {
          "base_uri": "https://localhost:8080/",
          "height": 53
        }
      },
      "source": [
        "cursor.execute('''select * from Actors WHERE \"Actor_shows\" = \"The_Office\"''')\n",
        "for row in cursor.fetchall():\n",
        "  print (row)"
      ],
      "execution_count": 0,
      "outputs": [
        {
          "output_type": "stream",
          "text": [
            "('Steve_Carell', 'Minions', 'The_Office', 'John_Krasinski')\n",
            "('John_Krasinski', 'A_Quiet_Place', 'The_Office', 'Rainn_Wilson')\n"
          ],
          "name": "stdout"
        }
      ]
    },
    {
      "cell_type": "markdown",
      "metadata": {
        "id": "BAb8ZQbtMbUs",
        "colab_type": "text"
      },
      "source": [
        "Being able to determine which actors/actresses acted in a specific show/movie is a big part of how searches on our platform will operate and therefor it is very important that our database can inform the searcher on which actors/actresses worked on a particular show/movie and also show whether thay had worked on any other shows/movies. The results did match up with what we expected, showing which actors in our database worked on 'The Office' and also showed which other shows/movies they worked in."
      ]
    },
    {
      "cell_type": "markdown",
      "metadata": {
        "id": "IMrLAf-6x_xE",
        "colab_type": "text"
      },
      "source": [
        "What TV shows were released in 2005?\n",
        "(sql command)"
      ]
    },
    {
      "cell_type": "code",
      "metadata": {
        "id": "O9JNAE13kgYP",
        "colab_type": "code",
        "outputId": "576d4a54-15f1-4d97-b5bc-3012f0202296",
        "colab": {
          "base_uri": "https://localhost:8080/",
          "height": 53
        }
      },
      "source": [
        "cursor.execute('''select * from TV WHERE \"Start_year\" = \"2005\"''')\n",
        "for row in cursor.fetchall():\n",
        "  print (row)"
      ],
      "execution_count": 0,
      "outputs": [
        {
          "output_type": "stream",
          "text": [
            "('The_Office', 9, 2005, 'Comedy', 'TV_14')\n",
            "('Greys_Anatomy', 16, 2005, 'Romance', 'TV_14')\n"
          ],
          "name": "stdout"
        }
      ]
    },
    {
      "cell_type": "markdown",
      "metadata": {
        "id": "jrEimjIBMaLx",
        "colab_type": "text"
      },
      "source": [
        "Grouping via release year is another feature of our platform that is reliant on our database being able to accurately determine and then group which shows and movies were released in any given year, this adds another way to discover new shows/movies or rediscover old ones which helps diversify our offerings for our customers. The results do appear to match out expectations by giving us the two TV shows that had their first season released in 2005."
      ]
    }
  ]
}